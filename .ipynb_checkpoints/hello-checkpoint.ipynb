{
 "cells": [
  {
   "cell_type": "code",
   "execution_count": 1,
   "metadata": {},
   "outputs": [
    {
     "name": "stdout",
     "output_type": "stream",
     "text": [
      "None\n",
      "[0, 1, 2, 3, 4, 5, 6, 7, 8, 9, 10, 11, 12, 13, 14, 15, 16, 17, 18, 19]\n",
      "0\n",
      "[5, 6, 7, 8, 9, 10, 11, 12, 13, 14, 15]\n",
      "[15, 16, 17, 18, 19]\n",
      "[0, 1, 2, 3, 4]\n",
      "False\n",
      "True\n",
      "3\n",
      "1\n",
      "2\n",
      "3\n"
     ]
    }
   ],
   "source": [
    "lista1 = [1,2,3]\n",
    "lista2 = [4,5,6]\n",
    "lista = lista1 + lista2\n",
    "print lista.extend([7,8,9])\n",
    "\n",
    "lista3 = range(20)\n",
    "print lista3\n",
    "\n",
    "zero = lista3[0]\n",
    "print zero\n",
    "\n",
    "print lista3[5:16]\n",
    "\n",
    "print lista3[-5:]\n",
    "\n",
    "print lista3[:5]\n",
    "\n",
    "print 200 in lista3\n",
    "\n",
    "print 2 in lista3\n",
    "\n",
    "print len(lista1)\n",
    "\n",
    "x,y = [1,2]\n",
    "\n",
    "print x\n",
    "print y\n",
    "print x+y"
   ]
  },
  {
   "cell_type": "code",
   "execution_count": 2,
   "metadata": {},
   "outputs": [
    {
     "name": "stdout",
     "output_type": "stream",
     "text": [
      "2\n",
      "my default message\n",
      "2\n",
      "Data Science\n",
      "Data \r",
      " Science\n",
      "cannot divide by zero\n",
      "<function <lambda> at 0x0000000004C9D978>\n"
     ]
    }
   ],
   "source": [
    "#funcao\n",
    "def double (x):\n",
    "    return x*2\n",
    "\n",
    "a = double(1)\n",
    "\n",
    "print a\n",
    "\n",
    "def my_print(message=\"my default message\"):\n",
    "    print message\n",
    "    \n",
    "my_print ()    \n",
    "my_print (a)\n",
    "\n",
    "#string\n",
    "message = 'Data Science'\n",
    "my_print(message)\n",
    "message = 'Data \\r Science'\n",
    "my_print(message)\n",
    "\n",
    "#exception\n",
    "\n",
    "try:\n",
    "    print 0/0\n",
    "except ZeroDivisionError:\n",
    "    print \"cannot divide by zero\"\n",
    "\n",
    "\n",
    "#funcao lambda\n",
    "\n",
    "b = lambda y: y + 1\n",
    "\n",
    "print b"
   ]
  },
  {
   "cell_type": "code",
   "execution_count": 3,
   "metadata": {},
   "outputs": [
    {
     "name": "stdout",
     "output_type": "stream",
     "text": [
      "(5, 6)\n",
      "15\n",
      "50\n"
     ]
    }
   ],
   "source": [
    "#tuplas\n",
    "\n",
    "def sum_and_product(x,y):\n",
    "    return (x + y), (x * y)\n",
    "\n",
    "sp = sum_and_product (2,3)\n",
    "print sp\n",
    "\n",
    "s,p = sum_and_product (5,10)\n",
    "print s\n",
    "print p\n",
    "\n",
    "\n"
   ]
  },
  {
   "cell_type": "code",
   "execution_count": 4,
   "metadata": {},
   "outputs": [
    {
     "name": "stdout",
     "output_type": "stream",
     "text": [
      "80\n",
      "no grade for Kate\n",
      "True\n",
      "3\n",
      "True\n",
      "['text', 'retweet_count', 'hashtags', 'user']\n",
      "['Data Science is Awesome', 100, ['#data', '#science', '#datascience', '#awesome', '#yolo'], 'joelgrus']\n",
      "[('text', 'Data Science is Awesome'), ('retweet_count', 100), ('hashtags', ['#data', '#science', '#datascience', '#awesome', '#yolo']), ('user', 'joelgrus')]\n",
      "defaultdict(<type 'list'>, {2: [1]})\n",
      "defaultdict(<type 'dict'>, {'Joel': {'City': 'Seattle'}})\n",
      "defaultdict(<function <lambda> at 0x0000000004C9D4A8>, {2: [0, 1]})\n",
      "Counter({0: 2, 1: 1, 2: 1})\n"
     ]
    }
   ],
   "source": [
    "#dicionarios\n",
    "\n",
    "empty_dict = {}\n",
    "empty_diic2 = dict()\n",
    "grades ={\"Joel\" : 80, \"Tim\" : 95}\n",
    "\n",
    "joels_grade = grades[\"Joel\"]\n",
    "print joels_grade\n",
    "\n",
    "try:\n",
    "    kates_grade = grades[\"kate\"]\n",
    "except KeyError:\n",
    "    print \"no grade for Kate\"\n",
    "    \n",
    "joel_has_grades = \"Joel\" in grades\n",
    "print joel_has_grades\n",
    "\n",
    "kate_has_grades = grades.get(\"Kate\", 0)\n",
    "\n",
    "grades[\"Tim\"] = 99\n",
    "grades[\"Kate\"]=100\n",
    "num_students = len(grades)\n",
    "print num_students\n",
    "\n",
    "tweet = {\n",
    "    \"user\":\"joelgrus\",\n",
    "    \"text\":\"Data Science is Awesome\",\n",
    "    \"retweet_count\":100,\n",
    "    \"hashtags\": [\"#data\", \"#science\",  \"#datascience\",\"#awesome\",\"#yolo\"]\n",
    "}\n",
    "\n",
    "print \"user\" in tweet\n",
    "print tweet.keys()\n",
    "print tweet.values()\n",
    "print tweet.items()\n",
    "\n",
    "#default dict\n",
    "\n",
    "from collections import defaultdict\n",
    "\n",
    "#word_counts = defaultdict(int)\n",
    "#for word in document:\n",
    "#    word_counts[word] += 1\n",
    "\n",
    "dd_list = defaultdict(list)\n",
    "dd_list[2].append(1)\n",
    "print dd_list\n",
    "\n",
    "\n",
    "dd_dict = defaultdict(dict)\n",
    "dd_dict[\"Joel\"][\"City\"] = \"Seattle\"\n",
    "print dd_dict\n",
    "\n",
    "dd_pair = defaultdict(lambda: [0,0])\n",
    "dd_pair[2][1]=1\n",
    "print dd_pair\n",
    "\n",
    "from collections import Counter\n",
    "c=Counter([0,1,2,0])\n",
    "print c"
   ]
  },
  {
   "cell_type": "code",
   "execution_count": 5,
   "metadata": {},
   "outputs": [
    {
     "name": "stdout",
     "output_type": "stream",
     "text": [
      "when al else fails use else (if you want to)\n",
      "0 is less than 10\n",
      "1 is less than 10\n",
      "2 is less than 10\n",
      "3 is less than 10\n",
      "4 is less than 10\n",
      "5 is less than 10\n",
      "6 is less than 10\n",
      "7 is less than 10\n",
      "8 is less than 10\n",
      "9 is less than 10\n",
      "0 its less than 10\n",
      "1 its less than 10\n",
      "2 its less than 10\n",
      "3 its less than 10\n",
      "4 its less than 10\n",
      "5 its less than 10\n",
      "6 its less than 10\n",
      "7 its less than 10\n",
      "8 its less than 10\n",
      "9 its less than 10\n",
      "0\n",
      "1\n",
      "2\n",
      "4\n",
      "teste\n",
      "5\n",
      "when al else fails use else (if you want to)\n"
     ]
    }
   ],
   "source": [
    "\n",
    "#flow control\n",
    "\n",
    "#parity =\"even\" if x%2 ==0 else \"odd\"\n",
    "#print parity\n",
    "\n",
    "if 1>2:\n",
    "    message = \"if only 1 were greater than two..\"\n",
    "elif 1>3:\n",
    "    message = \"elseif stands for 'else if'\"\n",
    "else:\n",
    "    message = \"when al else fails use else (if you want to)\"\n",
    "print message\n",
    "\n",
    "x=0\n",
    "while x < 10:\n",
    "    print x, \"is less than 10\"\n",
    "    x += 1\n",
    "    \n",
    "for x in range(10): \n",
    "    print x, \"its less than 10\"\n",
    "    \n",
    "for x in range(10):\n",
    "    if x ==3:\n",
    "        continue\n",
    "    if x == 5:\n",
    "        break\n",
    "    print x\n",
    "    \n",
    "print \"teste\"\n",
    "print x\n",
    "print message"
   ]
  },
  {
   "cell_type": "code",
   "execution_count": 6,
   "metadata": {},
   "outputs": [
    {
     "ename": "NameError",
     "evalue": "name 'stopwords_list' is not defined",
     "output_type": "error",
     "traceback": [
      "\u001b[1;31m\u001b[0m",
      "\u001b[1;31mNameError\u001b[0mTraceback (most recent call last)",
      "\u001b[1;32m<ipython-input-6-3e507a10ab9a>\u001b[0m in \u001b[0;36m<module>\u001b[1;34m()\u001b[0m\n\u001b[0;32m      1\u001b[0m \u001b[1;31m#set\u001b[0m\u001b[1;33m\u001b[0m\u001b[1;33m\u001b[0m\u001b[0m\n\u001b[1;32m----> 2\u001b[1;33m \u001b[0mstopwords_list\u001b[0m\u001b[1;33m\u001b[0m\u001b[0m\n\u001b[0m",
      "\u001b[1;31mNameError\u001b[0m: name 'stopwords_list' is not defined"
     ]
    }
   ],
   "source": [
    "#set\n",
    "stopwords_list"
   ]
  },
  {
   "cell_type": "code",
   "execution_count": 15,
   "metadata": {},
   "outputs": [
    {
     "name": "stdout",
     "output_type": "stream",
     "text": [
      "[4, 1, 2, 3]\n",
      "[1, 2, 3, 4]\n",
      "[1, 2, 3, 4]\n",
      "[-4, 3, -2, 1]\n",
      "[1, -2, 3, -4]\n",
      "[0, 2, 4]\n",
      "[0, 1, 4, 9, 16]\n",
      "[0, 4, 16]\n",
      "{0: 0, 1: 1, 2: 4, 3: 9, 4: 16}\n",
      "set([1])\n",
      "[0, 0, 0]\n",
      "[(0, 0), (0, 1), (0, 2), (0, 3), (0, 4), (0, 5), (0, 6), (0, 7), (0, 8), (0, 9), (1, 0), (1, 1), (1, 2), (1, 3), (1, 4), (1, 5), (1, 6), (1, 7), (1, 8), (1, 9), (2, 0), (2, 1), (2, 2), (2, 3), (2, 4), (2, 5), (2, 6), (2, 7), (2, 8), (2, 9), (3, 0), (3, 1), (3, 2), (3, 3), (3, 4), (3, 5), (3, 6), (3, 7), (3, 8), (3, 9), (4, 0), (4, 1), (4, 2), (4, 3), (4, 4), (4, 5), (4, 6), (4, 7), (4, 8), (4, 9), (5, 0), (5, 1), (5, 2), (5, 3), (5, 4), (5, 5), (5, 6), (5, 7), (5, 8), (5, 9), (6, 0), (6, 1), (6, 2), (6, 3), (6, 4), (6, 5), (6, 6), (6, 7), (6, 8), (6, 9), (7, 0), (7, 1), (7, 2), (7, 3), (7, 4), (7, 5), (7, 6), (7, 7), (7, 8), (7, 9), (8, 0), (8, 1), (8, 2), (8, 3), (8, 4), (8, 5), (8, 6), (8, 7), (8, 8), (8, 9), (9, 0), (9, 1), (9, 2), (9, 3), (9, 4), (9, 5), (9, 6), (9, 7), (9, 8), (9, 9)]\n"
     ]
    }
   ],
   "source": [
    "#handling with lists\n",
    "\n",
    "x =[4,1,2,3]\n",
    "y = sorted(x)\n",
    "print x\n",
    "print y\n",
    "x.sort()\n",
    "print x\n",
    "z = sorted([-4,1,-2,3], key=abs,reverse=True)\n",
    "print z\n",
    "z = sorted([-4,1,-2,3], key=abs,reverse=False)\n",
    "print z\n",
    "\n",
    "even_numbers = [x for x in range(5) if x%2 == 0]\n",
    "squares = [x * x for x in range(5)]\n",
    "even_squares = [x * x for x in even_numbers]\n",
    "print even_numbers\n",
    "print squares\n",
    "print even_squares\n",
    "\n",
    "square_dict = {x : x*x for x in range(5)}\n",
    "square_set = {x * x for x in [1,-1]}\n",
    "print square_dict\n",
    "print square_set\n",
    "\n",
    "zeroes = [0 for _ in even_numbers]\n",
    "print zeroes\n",
    "\n",
    "pairs = [(x,y)\n",
    "        for x in range(10)\n",
    "        for y in range(10)]\n",
    "print pairs"
   ]
  },
  {
   "cell_type": "code",
   "execution_count": 21,
   "metadata": {},
   "outputs": [
    {
     "name": "stdout",
     "output_type": "stream",
     "text": [
      "[0.45683115105830563, 0.6858614854745947, 0.6618463200523511, 0.1329781447122128]\n",
      "0.57140259469\n",
      "0.57140259469\n",
      "4\n",
      "4\n",
      "[8, 3, 5, 1, 9, 0, 4, 6, 7, 2]\n",
      "Charlie\n",
      "[2, 50, 34, 21, 15, 37]\n"
     ]
    }
   ],
   "source": [
    "#random\n",
    "import random\n",
    "\n",
    "four_uniform_randoms = [random.random() for _ in range(4)]\n",
    "print four_uniform_randoms\n",
    "\n",
    "random.seed(10)\n",
    "print random.random()\n",
    "random.seed(10)\n",
    "print random.random()\n",
    "\n",
    "print random.randrange(10)\n",
    "print random.randrange(3,6)\n",
    "\n",
    "up_to_ten = range(10)\n",
    "random.shuffle(up_to_ten)\n",
    "print up_to_ten\n",
    "\n",
    "my_best_friend = random.choice([\"Alice\", \"Bob\", \"Charlie\"])\n",
    "print my_best_friend\n",
    "\n",
    "lottery_numbers = range(60)\n",
    "winning_numbers  = random.sample(lottery_numbers, 6)\n",
    "print winning_numbers"
   ]
  },
  {
   "cell_type": "code",
   "execution_count": null,
   "metadata": {},
   "outputs": [],
   "source": []
  },
  {
   "cell_type": "code",
   "execution_count": null,
   "metadata": {},
   "outputs": [],
   "source": []
  },
  {
   "cell_type": "code",
   "execution_count": null,
   "metadata": {},
   "outputs": [],
   "source": []
  }
 ],
 "metadata": {
  "kernelspec": {
   "display_name": "Python 2",
   "language": "python",
   "name": "python2"
  },
  "language_info": {
   "codemirror_mode": {
    "name": "ipython",
    "version": 2
   },
   "file_extension": ".py",
   "mimetype": "text/x-python",
   "name": "python",
   "nbconvert_exporter": "python",
   "pygments_lexer": "ipython2",
   "version": "2.7.15"
  }
 },
 "nbformat": 4,
 "nbformat_minor": 2
}
