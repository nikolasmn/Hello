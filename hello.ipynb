{
 "cells": [
  {
   "cell_type": "code",
   "execution_count": 1,
   "metadata": {},
   "outputs": [
    {
     "name": "stdout",
     "output_type": "stream",
     "text": [
      "None\n",
      "[0, 1, 2, 3, 4, 5, 6, 7, 8, 9, 10, 11, 12, 13, 14, 15, 16, 17, 18, 19]\n",
      "0\n",
      "[5, 6, 7, 8, 9, 10, 11, 12, 13, 14, 15]\n",
      "[15, 16, 17, 18, 19]\n",
      "[0, 1, 2, 3, 4]\n",
      "False\n",
      "True\n",
      "3\n",
      "1\n",
      "2\n",
      "3\n"
     ]
    }
   ],
   "source": [
    "lista1 = [1,2,3]\n",
    "lista2 = [4,5,6]\n",
    "lista = lista1 + lista2\n",
    "print lista.extend([7,8,9])\n",
    "\n",
    "lista3 = range(20)\n",
    "print lista3\n",
    "\n",
    "zero = lista3[0]\n",
    "print zero\n",
    "\n",
    "print lista3[5:16]\n",
    "\n",
    "print lista3[-5:]\n",
    "\n",
    "print lista3[:5]\n",
    "\n",
    "print 200 in lista3\n",
    "\n",
    "print 2 in lista3\n",
    "\n",
    "print len(lista1)\n",
    "\n",
    "x,y = [1,2]\n",
    "\n",
    "print x\n",
    "print y\n",
    "print x+y"
   ]
  },
  {
   "cell_type": "code",
   "execution_count": 33,
   "metadata": {},
   "outputs": [
    {
     "name": "stdout",
     "output_type": "stream",
     "text": [
      "2\n",
      "my default message\n",
      "2\n",
      "Data Science\n",
      "Data \r",
      " Science\n",
      "cannot divide by zero\n",
      "<function <lambda> at 0x0000000004FBF5F8>\n"
     ]
    }
   ],
   "source": [
    "#funcao\n",
    "def double (x):\n",
    "    return x*2\n",
    "\n",
    "a = double(1)\n",
    "\n",
    "print a\n",
    "\n",
    "def my_print(message=\"my default message\"):\n",
    "    print message\n",
    "    \n",
    "my_print ()    \n",
    "my_print (a)\n",
    "\n",
    "#string\n",
    "message = 'Data Science'\n",
    "my_print(message)\n",
    "message = 'Data \\r Science'\n",
    "my_print(message)\n",
    "\n",
    "#exception\n",
    "\n",
    "try:\n",
    "    print 0/0\n",
    "except ZeroDivisionError:\n",
    "    print \"cannot divide by zero\"\n",
    "\n",
    "\n",
    "#funcao lambda\n",
    "\n",
    "b = lambda y: y + 1\n",
    "\n",
    "print b"
   ]
  },
  {
   "cell_type": "code",
   "execution_count": 32,
   "metadata": {},
   "outputs": [
    {
     "name": "stdout",
     "output_type": "stream",
     "text": [
      "(5, 6)\n",
      "15\n",
      "50\n"
     ]
    }
   ],
   "source": [
    "#tuplas\n",
    "\n",
    "def sum_and_product(x,y):\n",
    "    return (x + y), (x * y)\n",
    "\n",
    "sp = sum_and_product (2,3)\n",
    "print sp\n",
    "\n",
    "s,p = sum_and_product (5,10)\n",
    "print s\n",
    "print p\n",
    "\n",
    "\n"
   ]
  },
  {
   "cell_type": "code",
   "execution_count": 48,
   "metadata": {},
   "outputs": [
    {
     "name": "stdout",
     "output_type": "stream",
     "text": [
      "80\n",
      "no grade for Kate\n",
      "True\n",
      "3\n",
      "True\n",
      "['text', 'retweet_count', 'hashtags', 'user']\n",
      "['Data Science is Awesome', 100, ['#data', '#science', '#datascience', '#awesome', '#yolo'], 'joelgrus']\n",
      "[('text', 'Data Science is Awesome'), ('retweet_count', 100), ('hashtags', ['#data', '#science', '#datascience', '#awesome', '#yolo']), ('user', 'joelgrus')]\n",
      "defaultdict(<type 'list'>, {2: [1]})\n",
      "defaultdict(<type 'dict'>, {'Joel': {'City': 'Seattle'}})\n",
      "defaultdict(<function <lambda> at 0x0000000004FBFDD8>, {2: [0, 1]})\n",
      "Counter({0: 2, 1: 1, 2: 1})\n"
     ]
    }
   ],
   "source": [
    "#dicionarios\n",
    "\n",
    "empty_dict = {}\n",
    "empty_diic2 = dict()\n",
    "grades ={\"Joel\" : 80, \"Tim\" : 95}\n",
    "\n",
    "joels_grade = grades[\"Joel\"]\n",
    "print joels_grade\n",
    "\n",
    "try:\n",
    "    kates_grade = grades[\"kate\"]\n",
    "except KeyError:\n",
    "    print \"no grade for Kate\"\n",
    "    \n",
    "joel_has_grades = \"Joel\" in grades\n",
    "print joel_has_grades\n",
    "\n",
    "kate_has_grades = grades.get(\"Kate\", 0)\n",
    "\n",
    "grades[\"Tim\"] = 99\n",
    "grades[\"Kate\"]=100\n",
    "num_students = len(grades)\n",
    "print num_students\n",
    "\n",
    "tweet = {\n",
    "    \"user\":\"joelgrus\",\n",
    "    \"text\":\"Data Science is Awesome\",\n",
    "    \"retweet_count\":100,\n",
    "    \"hashtags\": [\"#data\", \"#science\",  \"#datascience\",\"#awesome\",\"#yolo\"]\n",
    "}\n",
    "\n",
    "print \"user\" in tweet\n",
    "print tweet.keys()\n",
    "print tweet.values()\n",
    "print tweet.items()\n",
    "\n",
    "#default dict\n",
    "\n",
    "from collections import defaultdict\n",
    "\n",
    "#word_counts = defaultdict(int)\n",
    "#for word in document:\n",
    "#    word_counts[word] += 1\n",
    "\n",
    "dd_list = defaultdict(list)\n",
    "dd_list[2].append(1)\n",
    "print dd_list\n",
    "\n",
    "\n",
    "dd_dict = defaultdict(dict)\n",
    "dd_dict[\"Joel\"][\"City\"] = \"Seattle\"\n",
    "print dd_dict\n",
    "\n",
    "dd_pair = defaultdict(lambda: [0,0])\n",
    "dd_pair[2][1]=1\n",
    "print dd_pair\n",
    "\n",
    "from collections import Counter\n",
    "c=Counter([0,1,2,0])\n",
    "print c"
   ]
  },
  {
   "cell_type": "code",
   "execution_count": null,
   "metadata": {
    "collapsed": true
   },
   "outputs": [],
   "source": [
    "#set\n",
    "stopwords_list"
   ]
  }
 ],
 "metadata": {
  "kernelspec": {
   "display_name": "Python 2",
   "language": "python",
   "name": "python2"
  },
  "language_info": {
   "codemirror_mode": {
    "name": "ipython",
    "version": 2
   },
   "file_extension": ".py",
   "mimetype": "text/x-python",
   "name": "python",
   "nbconvert_exporter": "python",
   "pygments_lexer": "ipython2",
   "version": "2.7.15"
  }
 },
 "nbformat": 4,
 "nbformat_minor": 2
}
