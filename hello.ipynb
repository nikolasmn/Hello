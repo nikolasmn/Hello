{
 "cells": [
  {
   "cell_type": "code",
   "execution_count": 28,
   "metadata": {},
   "outputs": [
    {
     "name": "stdout",
     "output_type": "stream",
     "text": [
      "None\n",
      "[0, 1, 2, 3, 4, 5, 6, 7, 8, 9, 10, 11, 12, 13, 14, 15, 16, 17, 18, 19]\n",
      "0\n",
      "[5, 6, 7, 8, 9, 10, 11, 12, 13, 14, 15]\n",
      "[15, 16, 17, 18, 19]\n",
      "[0, 1, 2, 3, 4]\n",
      "False\n",
      "True\n"
     ]
    }
   ],
   "source": [
    "lista1 = [1,2,3]\n",
    "lista2 = [4,5,6]\n",
    "lista = lista1 + lista2\n",
    "print lista.extend([7,8,9])\n",
    "\n",
    "lista3 = range(20)\n",
    "print lista3\n",
    "\n",
    "zero = lista3[0]\n",
    "print zero\n",
    "\n",
    "print lista3[5:16]\n",
    "\n",
    "print lista3[-5:]\n",
    "\n",
    "print lista3[:5]\n",
    "\n",
    "print 200 in lista3\n",
    "\n",
    "print 2 in lista3"
   ]
  },
  {
   "cell_type": "code",
   "execution_count": 18,
   "metadata": {},
   "outputs": [
    {
     "name": "stdout",
     "output_type": "stream",
     "text": [
      "2\n",
      "my default message\n",
      "2\n",
      "Data Science\n",
      "Data \r",
      " Science\n",
      "cannot divide by zero\n",
      "<function <lambda> at 0x0000000004FBF6D8>\n"
     ]
    }
   ],
   "source": [
    "#funcao\n",
    "def double (x):\n",
    "    return x*2\n",
    "\n",
    "a = double(1)\n",
    "\n",
    "print a\n",
    "\n",
    "def my_print(message=\"my default message\"):\n",
    "    print message\n",
    "    \n",
    "my_print ()    \n",
    "my_print (a)\n",
    "\n",
    "#string\n",
    "message = 'Data Science'\n",
    "my_print(message)\n",
    "message = 'Data \\r Science'\n",
    "my_print(message)\n",
    "\n",
    "#exception\n",
    "\n",
    "try:\n",
    "    print 0/0\n",
    "except ZeroDivisionError:\n",
    "    print \"cannot divide by zero\"\n",
    "\n",
    "\n",
    "#funcao lambda\n",
    "\n",
    "b = lambda y: y + 1\n",
    "\n",
    "print b"
   ]
  },
  {
   "cell_type": "code",
   "execution_count": null,
   "metadata": {},
   "outputs": [],
   "source": []
  }
 ],
 "metadata": {
  "kernelspec": {
   "display_name": "Python 2",
   "language": "python",
   "name": "python2"
  },
  "language_info": {
   "codemirror_mode": {
    "name": "ipython",
    "version": 2
   },
   "file_extension": ".py",
   "mimetype": "text/x-python",
   "name": "python",
   "nbconvert_exporter": "python",
   "pygments_lexer": "ipython2",
   "version": "2.7.15"
  }
 },
 "nbformat": 4,
 "nbformat_minor": 2
}
